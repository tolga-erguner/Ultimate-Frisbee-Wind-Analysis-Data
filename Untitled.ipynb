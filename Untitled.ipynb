{
 "cells": [
  {
   "cell_type": "code",
   "execution_count": 9,
   "id": "b06cee12",
   "metadata": {},
   "outputs": [
    {
     "name": "stdout",
     "output_type": "stream",
     "text": [
      "Requirement already satisfied: pandas in /Users/tolgaerguner/opt/anaconda3/lib/python3.9/site-packages (2.2.3)\n",
      "Requirement already satisfied: lxml in /Users/tolgaerguner/opt/anaconda3/lib/python3.9/site-packages (4.8.0)\n",
      "Requirement already satisfied: numpy>=1.22.4 in /Users/tolgaerguner/opt/anaconda3/lib/python3.9/site-packages (from pandas) (1.22.4)\n",
      "Requirement already satisfied: tzdata>=2022.7 in /Users/tolgaerguner/opt/anaconda3/lib/python3.9/site-packages (from pandas) (2024.2)\n",
      "Requirement already satisfied: python-dateutil>=2.8.2 in /Users/tolgaerguner/opt/anaconda3/lib/python3.9/site-packages (from pandas) (2.8.2)\n",
      "Requirement already satisfied: pytz>=2020.1 in /Users/tolgaerguner/opt/anaconda3/lib/python3.9/site-packages (from pandas) (2021.3)\n",
      "Requirement already satisfied: six>=1.5 in /Users/tolgaerguner/opt/anaconda3/lib/python3.9/site-packages (from python-dateutil>=2.8.2->pandas) (1.16.0)\n",
      "Note: you may need to restart the kernel to use updated packages.\n"
     ]
    }
   ],
   "source": [
    "pip install pandas lxml\n"
   ]
  },
  {
   "cell_type": "code",
   "execution_count": 10,
   "id": "031c82f6",
   "metadata": {},
   "outputs": [
    {
     "name": "stdout",
     "output_type": "stream",
     "text": [
      "Collecting html5lib\n",
      "  Downloading html5lib-1.1-py2.py3-none-any.whl (112 kB)\n",
      "\u001b[K     |████████████████████████████████| 112 kB 854 kB/s eta 0:00:01\n",
      "\u001b[?25hRequirement already satisfied: webencodings in /Users/tolgaerguner/opt/anaconda3/lib/python3.9/site-packages (from html5lib) (0.5.1)\n",
      "Requirement already satisfied: six>=1.9 in /Users/tolgaerguner/opt/anaconda3/lib/python3.9/site-packages (from html5lib) (1.16.0)\n",
      "Installing collected packages: html5lib\n",
      "Successfully installed html5lib-1.1\n",
      "Note: you may need to restart the kernel to use updated packages.\n"
     ]
    }
   ],
   "source": [
    "pip install html5lib"
   ]
  },
  {
   "cell_type": "code",
   "execution_count": 12,
   "id": "1a3467f1",
   "metadata": {},
   "outputs": [
    {
     "name": "stdout",
     "output_type": "stream",
     "text": [
      "Requirement already satisfied: beautifulsoup4 in /Users/tolgaerguner/opt/anaconda3/lib/python3.9/site-packages (4.11.1)\n",
      "Collecting beautifulsoup4\n",
      "  Downloading beautifulsoup4-4.13.4-py3-none-any.whl (187 kB)\n",
      "\u001b[K     |████████████████████████████████| 187 kB 936 kB/s eta 0:00:01\n",
      "\u001b[?25hRequirement already satisfied: soupsieve>1.2 in /Users/tolgaerguner/opt/anaconda3/lib/python3.9/site-packages (from beautifulsoup4) (2.3.1)\n",
      "Requirement already satisfied: typing-extensions>=4.0.0 in /Users/tolgaerguner/opt/anaconda3/lib/python3.9/site-packages (from beautifulsoup4) (4.12.2)\n",
      "Installing collected packages: beautifulsoup4\n",
      "  Attempting uninstall: beautifulsoup4\n",
      "    Found existing installation: beautifulsoup4 4.11.1\n",
      "    Uninstalling beautifulsoup4-4.11.1:\n",
      "      Successfully uninstalled beautifulsoup4-4.11.1\n",
      "Successfully installed beautifulsoup4-4.13.4\n",
      "Note: you may need to restart the kernel to use updated packages.\n"
     ]
    }
   ],
   "source": [
    "pip install --upgrade beautifulsoup4"
   ]
  },
  {
   "cell_type": "code",
   "execution_count": 4,
   "id": "3077dedb",
   "metadata": {},
   "outputs": [
    {
     "name": "stdout",
     "output_type": "stream",
     "text": [
      "Collecting selenium\n",
      "  Downloading selenium-4.31.0-py3-none-any.whl (9.4 MB)\n",
      "\u001b[K     |████████████████████████████████| 9.4 MB 7.5 MB/s eta 0:00:01\n",
      "\u001b[?25hCollecting trio-websocket~=0.9\n",
      "  Downloading trio_websocket-0.12.2-py3-none-any.whl (21 kB)\n",
      "Collecting trio~=0.17\n",
      "  Downloading trio-0.30.0-py3-none-any.whl (499 kB)\n",
      "\u001b[K     |████████████████████████████████| 499 kB 8.6 MB/s eta 0:00:01\n",
      "\u001b[?25hRequirement already satisfied: typing_extensions~=4.9 in /Users/tolgaerguner/opt/anaconda3/lib/python3.9/site-packages (from selenium) (4.12.2)\n",
      "Requirement already satisfied: urllib3[socks]<3,>=1.26 in /Users/tolgaerguner/opt/anaconda3/lib/python3.9/site-packages (from selenium) (1.26.9)\n",
      "Collecting websocket-client~=1.8\n",
      "  Downloading websocket_client-1.8.0-py3-none-any.whl (58 kB)\n",
      "\u001b[K     |████████████████████████████████| 58 kB 7.7 MB/s eta 0:00:011\n",
      "\u001b[?25hRequirement already satisfied: certifi>=2021.10.8 in /Users/tolgaerguner/opt/anaconda3/lib/python3.9/site-packages (from selenium) (2021.10.8)\n",
      "Collecting outcome\n",
      "  Downloading outcome-1.3.0.post0-py2.py3-none-any.whl (10 kB)\n",
      "Requirement already satisfied: idna in /Users/tolgaerguner/opt/anaconda3/lib/python3.9/site-packages (from trio~=0.17->selenium) (3.3)\n",
      "Requirement already satisfied: attrs>=23.2.0 in /Users/tolgaerguner/opt/anaconda3/lib/python3.9/site-packages (from trio~=0.17->selenium) (24.2.0)\n",
      "Collecting sniffio>=1.3.0\n",
      "  Downloading sniffio-1.3.1-py3-none-any.whl (10 kB)\n",
      "Requirement already satisfied: exceptiongroup in /Users/tolgaerguner/opt/anaconda3/lib/python3.9/site-packages (from trio~=0.17->selenium) (1.2.2)\n",
      "Requirement already satisfied: sortedcontainers in /Users/tolgaerguner/opt/anaconda3/lib/python3.9/site-packages (from trio~=0.17->selenium) (2.4.0)\n",
      "Collecting wsproto>=0.14\n",
      "  Downloading wsproto-1.2.0-py3-none-any.whl (24 kB)\n",
      "Requirement already satisfied: PySocks!=1.5.7,<2.0,>=1.5.6 in /Users/tolgaerguner/opt/anaconda3/lib/python3.9/site-packages (from urllib3[socks]<3,>=1.26->selenium) (1.7.1)\n",
      "Collecting h11<1,>=0.9.0\n",
      "  Downloading h11-0.14.0-py3-none-any.whl (58 kB)\n",
      "\u001b[K     |████████████████████████████████| 58 kB 13.9 MB/s eta 0:00:01\n",
      "\u001b[?25hInstalling collected packages: sniffio, outcome, h11, wsproto, trio, websocket-client, trio-websocket, selenium\n",
      "  Attempting uninstall: sniffio\n",
      "    Found existing installation: sniffio 1.2.0\n",
      "    Uninstalling sniffio-1.2.0:\n",
      "      Successfully uninstalled sniffio-1.2.0\n",
      "  Attempting uninstall: websocket-client\n",
      "    Found existing installation: websocket-client 0.58.0\n",
      "    Uninstalling websocket-client-0.58.0:\n",
      "      Successfully uninstalled websocket-client-0.58.0\n",
      "Successfully installed h11-0.14.0 outcome-1.3.0.post0 selenium-4.31.0 sniffio-1.3.1 trio-0.30.0 trio-websocket-0.12.2 websocket-client-1.8.0 wsproto-1.2.0\n",
      "Note: you may need to restart the kernel to use updated packages.\n"
     ]
    }
   ],
   "source": [
    "pip install selenium\n"
   ]
  },
  {
   "cell_type": "code",
   "execution_count": 5,
   "id": "b4f2a736",
   "metadata": {},
   "outputs": [
    {
     "name": "stdout",
     "output_type": "stream",
     "text": [
      "Collecting webdriver-manager\n",
      "  Downloading webdriver_manager-4.0.2-py2.py3-none-any.whl (27 kB)\n",
      "Requirement already satisfied: packaging in /Users/tolgaerguner/opt/anaconda3/lib/python3.9/site-packages (from webdriver-manager) (21.3)\n",
      "Requirement already satisfied: requests in /Users/tolgaerguner/opt/anaconda3/lib/python3.9/site-packages (from webdriver-manager) (2.32.3)\n",
      "Collecting python-dotenv\n",
      "  Downloading python_dotenv-1.1.0-py3-none-any.whl (20 kB)\n",
      "Requirement already satisfied: pyparsing!=3.0.5,>=2.0.2 in /Users/tolgaerguner/opt/anaconda3/lib/python3.9/site-packages (from packaging->webdriver-manager) (3.0.4)\n",
      "Requirement already satisfied: charset-normalizer<4,>=2 in /Users/tolgaerguner/opt/anaconda3/lib/python3.9/site-packages (from requests->webdriver-manager) (2.0.4)\n",
      "Requirement already satisfied: certifi>=2017.4.17 in /Users/tolgaerguner/opt/anaconda3/lib/python3.9/site-packages (from requests->webdriver-manager) (2021.10.8)\n",
      "Requirement already satisfied: urllib3<3,>=1.21.1 in /Users/tolgaerguner/opt/anaconda3/lib/python3.9/site-packages (from requests->webdriver-manager) (1.26.9)\n",
      "Requirement already satisfied: idna<4,>=2.5 in /Users/tolgaerguner/opt/anaconda3/lib/python3.9/site-packages (from requests->webdriver-manager) (3.3)\n",
      "Installing collected packages: python-dotenv, webdriver-manager\n",
      "Successfully installed python-dotenv-1.1.0 webdriver-manager-4.0.2\n",
      "Note: you may need to restart the kernel to use updated packages.\n"
     ]
    }
   ],
   "source": [
    "pip install webdriver-manager"
   ]
  },
  {
   "cell_type": "code",
   "execution_count": 2,
   "id": "eab42a8e",
   "metadata": {},
   "outputs": [
    {
     "name": "stdout",
     "output_type": "stream",
     "text": [
      "Index(['Team', 'Date ', 'Score', 'Completion %', 'Huck %', 'Hold %', 'OLC %',\n",
      "       'Break %', 'DLC %', 'RZC %', 'Turnovers', 'Blocks', 'Season'],\n",
      "      dtype='object')\n"
     ]
    }
   ],
   "source": [
    "import pandas as pd\n",
    "\n",
    "df = pd.read_csv(\"dc_breeze_stats_last_3_season.csv\")\n",
    "print(df.columns)"
   ]
  },
  {
   "cell_type": "code",
   "execution_count": 3,
   "id": "75569700",
   "metadata": {},
   "outputs": [
    {
     "name": "stdout",
     "output_type": "stream",
     "text": [
      "📅 Veriler alınıyor: 2024\n"
     ]
    },
    {
     "name": "stderr",
     "output_type": "stream",
     "text": [
      "/var/folders/bw/3d_7lhdd7fl2dwhmcnw7pjnr0000gn/T/ipykernel_92908/1076229815.py:20: FutureWarning: Passing literal html to 'read_html' is deprecated and will be removed in a future version. To read from a literal string, wrap it in a 'StringIO' object.\n",
      "  tables = pd.read_html(html)\n"
     ]
    },
    {
     "name": "stdout",
     "output_type": "stream",
     "text": [
      "📅 Veriler alınıyor: 2023\n"
     ]
    },
    {
     "name": "stderr",
     "output_type": "stream",
     "text": [
      "/var/folders/bw/3d_7lhdd7fl2dwhmcnw7pjnr0000gn/T/ipykernel_92908/1076229815.py:20: FutureWarning: Passing literal html to 'read_html' is deprecated and will be removed in a future version. To read from a literal string, wrap it in a 'StringIO' object.\n",
      "  tables = pd.read_html(html)\n"
     ]
    },
    {
     "name": "stdout",
     "output_type": "stream",
     "text": [
      "📅 Veriler alınıyor: 2022\n"
     ]
    },
    {
     "name": "stderr",
     "output_type": "stream",
     "text": [
      "/var/folders/bw/3d_7lhdd7fl2dwhmcnw7pjnr0000gn/T/ipykernel_92908/1076229815.py:20: FutureWarning: Passing literal html to 'read_html' is deprecated and will be removed in a future version. To read from a literal string, wrap it in a 'StringIO' object.\n",
      "  tables = pd.read_html(html)\n"
     ]
    },
    {
     "name": "stdout",
     "output_type": "stream",
     "text": [
      "✅ Tüm sezon verileri başarıyla kaydedildi: dc_breeze_stats_2022_2024.csv\n"
     ]
    }
   ],
   "source": [
    "from selenium import webdriver\n",
    "import time\n",
    "import pandas as pd\n",
    "\n",
    "# Safari driver'ı başlat\n",
    "driver = webdriver.Safari()\n",
    "\n",
    "# Yıllar\n",
    "years = [2024, 2023, 2022]\n",
    "all_data = []\n",
    "\n",
    "for year in years:\n",
    "    print(f\"📅 Veriler alınıyor: {year}\")\n",
    "    url = f\"https://watchufa.com/stats/team-game-stats?team=breeze&year={year}\"\n",
    "    driver.get(url)\n",
    "    time.sleep(5)  # sayfanın yüklenmesini bekle\n",
    "\n",
    "    try:\n",
    "        html = driver.page_source\n",
    "        tables = pd.read_html(html)\n",
    "        df = tables[0]\n",
    "        df['Season'] = year  # yıl bilgisini ekle\n",
    "        all_data.append(df)\n",
    "    except Exception as e:\n",
    "        print(f\"❌ {year} yılı verisi alınamadı: {e}\")\n",
    "\n",
    "# Tüm yılların verilerini birleştir\n",
    "final_df = pd.concat(all_data, ignore_index=True)\n",
    "\n",
    "# CSV olarak kaydet\n",
    "final_df.to_csv(\"dc_breeze_stats_2022_2024.csv\", index=False)\n",
    "\n",
    "# Tarayıcıyı kapat\n",
    "driver.quit()\n",
    "\n",
    "print(\"✅ Tüm sezon verileri başarıyla kaydedildi: dc_breeze_stats_2022_2024.csv\")"
   ]
  },
  {
   "cell_type": "code",
   "execution_count": null,
   "id": "c9199343",
   "metadata": {},
   "outputs": [],
   "source": []
  },
  {
   "cell_type": "code",
   "execution_count": 7,
   "id": "775dccc6",
   "metadata": {},
   "outputs": [
    {
     "name": "stdout",
     "output_type": "stream",
     "text": [
      "📅 2024-08-23 - 🏟️ Salt Lake City,UT\n",
      "⏳ API limit aşıldı! Bekleniyor...\n",
      "📅 2024-08-10 - 🏟️ Washington,DC\n",
      "⏳ API limit aşıldı! Bekleniyor...\n",
      "📅 2024-07-20 - 🏟️ Washington,DC\n",
      "⏳ API limit aşıldı! Bekleniyor...\n"
     ]
    },
    {
     "ename": "KeyboardInterrupt",
     "evalue": "",
     "output_type": "error",
     "traceback": [
      "\u001b[0;31m---------------------------------------------------------------------------\u001b[0m",
      "\u001b[0;31mKeyboardInterrupt\u001b[0m                         Traceback (most recent call last)",
      "Input \u001b[0;32mIn [7]\u001b[0m, in \u001b[0;36m<cell line: 61>\u001b[0;34m()\u001b[0m\n\u001b[1;32m     85\u001b[0m \u001b[38;5;28;01melif\u001b[39;00m response\u001b[38;5;241m.\u001b[39mstatus_code \u001b[38;5;241m==\u001b[39m \u001b[38;5;241m429\u001b[39m:\n\u001b[1;32m     86\u001b[0m     \u001b[38;5;28mprint\u001b[39m(\u001b[38;5;124mf\u001b[39m\u001b[38;5;124m\"\u001b[39m\u001b[38;5;124m⏳ API limit aşıldı! Bekleniyor...\u001b[39m\u001b[38;5;124m\"\u001b[39m)\n\u001b[0;32m---> 87\u001b[0m     \u001b[43mtime\u001b[49m\u001b[38;5;241;43m.\u001b[39;49m\u001b[43msleep\u001b[49m\u001b[43m(\u001b[49m\u001b[38;5;241;43m65\u001b[39;49m\u001b[43m)\u001b[49m  \u001b[38;5;66;03m# 1 dakikalık bekleme\u001b[39;00m\n\u001b[1;32m     88\u001b[0m     \u001b[38;5;28;01mcontinue\u001b[39;00m  \u001b[38;5;66;03m# aynı tarihi tekrar dene\u001b[39;00m\n\u001b[1;32m     89\u001b[0m \u001b[38;5;28;01melse\u001b[39;00m:\n",
      "\u001b[0;31mKeyboardInterrupt\u001b[0m: "
     ]
    }
   ],
   "source": [
    "import pandas as pd\n",
    "import requests\n",
    "import csv\n",
    "from datetime import datetime\n",
    "import time\n",
    "\n",
    "# 🔐 Visual Crossing API Key\n",
    "API_KEY = \"TUFUHU6ERDAHNALFJY7YU56Y6\"\n",
    "\n",
    "# 📁 Dosya yolları\n",
    "INPUT_CSV = \"dc_breeze_stats_last_3_season.csv\"\n",
    "OUTPUT_CSV = \"match_wind_data.csv\"\n",
    "\n",
    "# 📍 Takım kodu → şehir eşlemesi\n",
    "team_city_map = {\n",
    "    \"DC\": \"Washington,DC\",\n",
    "    \"PHI\": \"Philadelphia,PA\",\n",
    "    \"BOS\": \"Boston,MA\",\n",
    "    \"NY\": \"New York,NY\",\n",
    "    \"TOR\": \"Toronto,ON\",\n",
    "    \"MTL\": \"Montreal,QC\",\n",
    "    \"ATL\": \"Atlanta,GA\",\n",
    "    \"CAR\": \"Raleigh,NC\",\n",
    "    \"CHI\": \"Chicago,IL\",\n",
    "    \"IND\": \"Indianapolis,IN\",\n",
    "    \"MIN\": \"Minneapolis,MN\",\n",
    "    \"COL\": \"Columbus,OH\",\n",
    "    \"DET\": \"Detroit,MI\",\n",
    "    \"PIT\": \"Pittsburgh,PA\",\n",
    "    \"AUS\": \"Austin,TX\",\n",
    "    \"DAL\": \"Dallas,TX\",\n",
    "    \"SEA\": \"Seattle,WA\",\n",
    "    \"POR\": \"Portland,OR\",\n",
    "    \"LA\": \"Los Angeles,CA\",\n",
    "    \"SD\": \"San Diego,CA\",\n",
    "    \"SLC\": \"Salt Lake City,UT\",\n",
    "    \"OAK\": \"Oakland,CA\"\n",
    "}\n",
    "\n",
    "# 📥 Verileri oku\n",
    "df = pd.read_csv(INPUT_CSV)\n",
    "df.columns = df.columns.str.strip()\n",
    "df['Date'] = pd.to_datetime(df['Date'])\n",
    "\n",
    "# ⏳ Sadece bugüne kadar oynanmış maçları al\n",
    "df = df[df['Date'] < pd.Timestamp.today()]\n",
    "\n",
    "# 🔍 Score'dan ev sahibi takımı alan fonksiyon\n",
    "def get_home_team(score):\n",
    "    if pd.isna(score):\n",
    "        return None\n",
    "    parts = [p.strip() for p in score.split(\"-\")]\n",
    "    if len(parts) == 2:\n",
    "        return parts[1]\n",
    "    return None\n",
    "\n",
    "# 🌬️ Rüzgar verilerini toplayacağımız liste\n",
    "weather_data = []\n",
    "\n",
    "# 🔁 Her maç için rüzgar verisi çek\n",
    "for index, row in df.iterrows():\n",
    "    date_obj = row['Date']\n",
    "    date_str = date_obj.strftime('%Y-%m-%d')\n",
    "    score = row['Score']\n",
    "\n",
    "    # 🎯 Manuel istisna: Salt Lake City maçı\n",
    "    if date_str == \"2024-08-23\":\n",
    "        location = \"Salt Lake City,UT\"\n",
    "    else:\n",
    "        home_team_code = get_home_team(score)\n",
    "        location = team_city_map.get(home_team_code, \"Washington,DC\")\n",
    "\n",
    "    print(f\"📅 {date_str} - 🏟️ {location}\")\n",
    "\n",
    "    url = f\"https://weather.visualcrossing.com/VisualCrossingWebServices/rest/services/timeline/{location}/{date_str}?unitGroup=metric&key={API_KEY}&contentType=json\"\n",
    "\n",
    "    try:\n",
    "        response = requests.get(url)\n",
    "\n",
    "        if response.status_code == 200 and response.text.strip() != \"\":\n",
    "            data = response.json()\n",
    "            wind_speed = data['days'][0]['windspeed']\n",
    "            weather_data.append({'Date': date_str, 'Location': location, 'Wind Speed (m/s)': wind_speed})\n",
    "            print(f\"✅ {date_str} rüzgar: {wind_speed} m/s\")\n",
    "        elif response.status_code == 429:\n",
    "            print(f\"⏳ API limit aşıldı! Bekleniyor...\")\n",
    "            time.sleep(65)  # 1 dakikalık bekleme\n",
    "            continue  # aynı tarihi tekrar dene\n",
    "        else:\n",
    "            raise ValueError(f\"Boş veya hatalı cevap: {response.status_code}\")\n",
    "    except Exception as e:\n",
    "        print(f\"❌ {date_str} HATA: {e}\")\n",
    "        weather_data.append({'Date': date_str, 'Location': location, 'Wind Speed (m/s)': None})\n",
    "\n",
    "    time.sleep(6)  # 🔁 Her istek arasında 6 saniye bekle\n",
    "\n",
    "# 📄 CSV olarak kaydet\n",
    "with open(OUTPUT_CSV, 'w', newline='') as file:\n",
    "    writer = csv.DictWriter(file, fieldnames=['Date', 'Location', 'Wind Speed (m/s)'])\n",
    "    writer.writeheader()\n",
    "    writer.writerows(weather_data)\n",
    "\n",
    "print(\"✅ Rüzgar verileri başarıyla kaydedildi →\", OUTPUT_CSV)"
   ]
  },
  {
   "cell_type": "code",
   "execution_count": null,
   "id": "873bc24a",
   "metadata": {},
   "outputs": [],
   "source": [
    "\n"
   ]
  },
  {
   "cell_type": "code",
   "execution_count": null,
   "id": "04bef9df",
   "metadata": {},
   "outputs": [],
   "source": []
  },
  {
   "cell_type": "code",
   "execution_count": null,
   "id": "04c06fd3",
   "metadata": {},
   "outputs": [],
   "source": []
  }
 ],
 "metadata": {
  "kernelspec": {
   "display_name": "Python 3 (ipykernel)",
   "language": "python",
   "name": "python3"
  },
  "language_info": {
   "codemirror_mode": {
    "name": "ipython",
    "version": 3
   },
   "file_extension": ".py",
   "mimetype": "text/x-python",
   "name": "python",
   "nbconvert_exporter": "python",
   "pygments_lexer": "ipython3",
   "version": "3.9.12"
  }
 },
 "nbformat": 4,
 "nbformat_minor": 5
}
