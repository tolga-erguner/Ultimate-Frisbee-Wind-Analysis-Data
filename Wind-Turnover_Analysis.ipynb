{
 "cells": [
  {
   "cell_type": "code",
   "execution_count": 9,
   "id": "b06cee12",
   "metadata": {
    "scrolled": true
   },
   "outputs": [
    {
     "name": "stdout",
     "output_type": "stream",
     "text": [
      "Requirement already satisfied: pandas in /Users/tolgaerguner/opt/anaconda3/lib/python3.9/site-packages (2.2.3)\n",
      "Requirement already satisfied: lxml in /Users/tolgaerguner/opt/anaconda3/lib/python3.9/site-packages (4.8.0)\n",
      "Requirement already satisfied: numpy>=1.22.4 in /Users/tolgaerguner/opt/anaconda3/lib/python3.9/site-packages (from pandas) (1.22.4)\n",
      "Requirement already satisfied: tzdata>=2022.7 in /Users/tolgaerguner/opt/anaconda3/lib/python3.9/site-packages (from pandas) (2024.2)\n",
      "Requirement already satisfied: python-dateutil>=2.8.2 in /Users/tolgaerguner/opt/anaconda3/lib/python3.9/site-packages (from pandas) (2.8.2)\n",
      "Requirement already satisfied: pytz>=2020.1 in /Users/tolgaerguner/opt/anaconda3/lib/python3.9/site-packages (from pandas) (2021.3)\n",
      "Requirement already satisfied: six>=1.5 in /Users/tolgaerguner/opt/anaconda3/lib/python3.9/site-packages (from python-dateutil>=2.8.2->pandas) (1.16.0)\n",
      "Note: you may need to restart the kernel to use updated packages.\n"
     ]
    }
   ],
   "source": [
    "pip install pandas lxml\n"
   ]
  },
  {
   "cell_type": "code",
   "execution_count": 10,
   "id": "53810226",
   "metadata": {},
   "outputs": [
    {
     "name": "stdout",
     "output_type": "stream",
     "text": [
      "Collecting html5lib\n",
      "  Downloading html5lib-1.1-py2.py3-none-any.whl (112 kB)\n",
      "\u001b[K     |████████████████████████████████| 112 kB 854 kB/s eta 0:00:01\n",
      "\u001b[?25hRequirement already satisfied: webencodings in /Users/tolgaerguner/opt/anaconda3/lib/python3.9/site-packages (from html5lib) (0.5.1)\n",
      "Requirement already satisfied: six>=1.9 in /Users/tolgaerguner/opt/anaconda3/lib/python3.9/site-packages (from html5lib) (1.16.0)\n",
      "Installing collected packages: html5lib\n",
      "Successfully installed html5lib-1.1\n",
      "Note: you may need to restart the kernel to use updated packages.\n"
     ]
    }
   ],
   "source": [
    "pip install html5lib"
   ]
  },
  {
   "cell_type": "code",
   "execution_count": 12,
   "id": "39a8b38a",
   "metadata": {},
   "outputs": [
    {
     "name": "stdout",
     "output_type": "stream",
     "text": [
      "Requirement already satisfied: beautifulsoup4 in /Users/tolgaerguner/opt/anaconda3/lib/python3.9/site-packages (4.11.1)\n",
      "Collecting beautifulsoup4\n",
      "  Downloading beautifulsoup4-4.13.4-py3-none-any.whl (187 kB)\n",
      "\u001b[K     |████████████████████████████████| 187 kB 936 kB/s eta 0:00:01\n",
      "\u001b[?25hRequirement already satisfied: soupsieve>1.2 in /Users/tolgaerguner/opt/anaconda3/lib/python3.9/site-packages (from beautifulsoup4) (2.3.1)\n",
      "Requirement already satisfied: typing-extensions>=4.0.0 in /Users/tolgaerguner/opt/anaconda3/lib/python3.9/site-packages (from beautifulsoup4) (4.12.2)\n",
      "Installing collected packages: beautifulsoup4\n",
      "  Attempting uninstall: beautifulsoup4\n",
      "    Found existing installation: beautifulsoup4 4.11.1\n",
      "    Uninstalling beautifulsoup4-4.11.1:\n",
      "      Successfully uninstalled beautifulsoup4-4.11.1\n",
      "Successfully installed beautifulsoup4-4.13.4\n",
      "Note: you may need to restart the kernel to use updated packages.\n"
     ]
    }
   ],
   "source": [
    "pip install --upgrade beautifulsoup4"
   ]
  },
  {
   "cell_type": "code",
   "execution_count": 4,
   "id": "172884d3",
   "metadata": {},
   "outputs": [
    {
     "name": "stdout",
     "output_type": "stream",
     "text": [
      "Collecting selenium\n",
      "  Downloading selenium-4.31.0-py3-none-any.whl (9.4 MB)\n",
      "\u001b[K     |████████████████████████████████| 9.4 MB 7.5 MB/s eta 0:00:01\n",
      "\u001b[?25hCollecting trio-websocket~=0.9\n",
      "  Downloading trio_websocket-0.12.2-py3-none-any.whl (21 kB)\n",
      "Collecting trio~=0.17\n",
      "  Downloading trio-0.30.0-py3-none-any.whl (499 kB)\n",
      "\u001b[K     |████████████████████████████████| 499 kB 8.6 MB/s eta 0:00:01\n",
      "\u001b[?25hRequirement already satisfied: typing_extensions~=4.9 in /Users/tolgaerguner/opt/anaconda3/lib/python3.9/site-packages (from selenium) (4.12.2)\n",
      "Requirement already satisfied: urllib3[socks]<3,>=1.26 in /Users/tolgaerguner/opt/anaconda3/lib/python3.9/site-packages (from selenium) (1.26.9)\n",
      "Collecting websocket-client~=1.8\n",
      "  Downloading websocket_client-1.8.0-py3-none-any.whl (58 kB)\n",
      "\u001b[K     |████████████████████████████████| 58 kB 7.7 MB/s eta 0:00:011\n",
      "\u001b[?25hRequirement already satisfied: certifi>=2021.10.8 in /Users/tolgaerguner/opt/anaconda3/lib/python3.9/site-packages (from selenium) (2021.10.8)\n",
      "Collecting outcome\n",
      "  Downloading outcome-1.3.0.post0-py2.py3-none-any.whl (10 kB)\n",
      "Requirement already satisfied: idna in /Users/tolgaerguner/opt/anaconda3/lib/python3.9/site-packages (from trio~=0.17->selenium) (3.3)\n",
      "Requirement already satisfied: attrs>=23.2.0 in /Users/tolgaerguner/opt/anaconda3/lib/python3.9/site-packages (from trio~=0.17->selenium) (24.2.0)\n",
      "Collecting sniffio>=1.3.0\n",
      "  Downloading sniffio-1.3.1-py3-none-any.whl (10 kB)\n",
      "Requirement already satisfied: exceptiongroup in /Users/tolgaerguner/opt/anaconda3/lib/python3.9/site-packages (from trio~=0.17->selenium) (1.2.2)\n",
      "Requirement already satisfied: sortedcontainers in /Users/tolgaerguner/opt/anaconda3/lib/python3.9/site-packages (from trio~=0.17->selenium) (2.4.0)\n",
      "Collecting wsproto>=0.14\n",
      "  Downloading wsproto-1.2.0-py3-none-any.whl (24 kB)\n",
      "Requirement already satisfied: PySocks!=1.5.7,<2.0,>=1.5.6 in /Users/tolgaerguner/opt/anaconda3/lib/python3.9/site-packages (from urllib3[socks]<3,>=1.26->selenium) (1.7.1)\n",
      "Collecting h11<1,>=0.9.0\n",
      "  Downloading h11-0.14.0-py3-none-any.whl (58 kB)\n",
      "\u001b[K     |████████████████████████████████| 58 kB 13.9 MB/s eta 0:00:01\n",
      "\u001b[?25hInstalling collected packages: sniffio, outcome, h11, wsproto, trio, websocket-client, trio-websocket, selenium\n",
      "  Attempting uninstall: sniffio\n",
      "    Found existing installation: sniffio 1.2.0\n",
      "    Uninstalling sniffio-1.2.0:\n",
      "      Successfully uninstalled sniffio-1.2.0\n",
      "  Attempting uninstall: websocket-client\n",
      "    Found existing installation: websocket-client 0.58.0\n",
      "    Uninstalling websocket-client-0.58.0:\n",
      "      Successfully uninstalled websocket-client-0.58.0\n",
      "Successfully installed h11-0.14.0 outcome-1.3.0.post0 selenium-4.31.0 sniffio-1.3.1 trio-0.30.0 trio-websocket-0.12.2 websocket-client-1.8.0 wsproto-1.2.0\n",
      "Note: you may need to restart the kernel to use updated packages.\n"
     ]
    }
   ],
   "source": [
    "pip install selenium\n"
   ]
  },
  {
   "cell_type": "code",
   "execution_count": 5,
   "id": "adf76758",
   "metadata": {},
   "outputs": [
    {
     "name": "stdout",
     "output_type": "stream",
     "text": [
      "Collecting webdriver-manager\n",
      "  Downloading webdriver_manager-4.0.2-py2.py3-none-any.whl (27 kB)\n",
      "Requirement already satisfied: packaging in /Users/tolgaerguner/opt/anaconda3/lib/python3.9/site-packages (from webdriver-manager) (21.3)\n",
      "Requirement already satisfied: requests in /Users/tolgaerguner/opt/anaconda3/lib/python3.9/site-packages (from webdriver-manager) (2.32.3)\n",
      "Collecting python-dotenv\n",
      "  Downloading python_dotenv-1.1.0-py3-none-any.whl (20 kB)\n",
      "Requirement already satisfied: pyparsing!=3.0.5,>=2.0.2 in /Users/tolgaerguner/opt/anaconda3/lib/python3.9/site-packages (from packaging->webdriver-manager) (3.0.4)\n",
      "Requirement already satisfied: charset-normalizer<4,>=2 in /Users/tolgaerguner/opt/anaconda3/lib/python3.9/site-packages (from requests->webdriver-manager) (2.0.4)\n",
      "Requirement already satisfied: certifi>=2017.4.17 in /Users/tolgaerguner/opt/anaconda3/lib/python3.9/site-packages (from requests->webdriver-manager) (2021.10.8)\n",
      "Requirement already satisfied: urllib3<3,>=1.21.1 in /Users/tolgaerguner/opt/anaconda3/lib/python3.9/site-packages (from requests->webdriver-manager) (1.26.9)\n",
      "Requirement already satisfied: idna<4,>=2.5 in /Users/tolgaerguner/opt/anaconda3/lib/python3.9/site-packages (from requests->webdriver-manager) (3.3)\n",
      "Installing collected packages: python-dotenv, webdriver-manager\n",
      "Successfully installed python-dotenv-1.1.0 webdriver-manager-4.0.2\n",
      "Note: you may need to restart the kernel to use updated packages.\n"
     ]
    }
   ],
   "source": [
    "pip install webdriver-manager"
   ]
  },
  {
   "cell_type": "markdown",
   "id": "b7bf35b7",
   "metadata": {},
   "source": [
    "\"\"\"\n",
    "\n",
    "📊 DC Breeze Team Stats Scraper (2022–2024)\n",
    "------------------------------------------\n",
    "This script uses Selenium and pandas to extract match statistics \n",
    "for the DC Breeze Ultimate Frisbee team from the WatchUFA website \n",
    "for the 2022, 2023, and 2024 seasons.\n",
    "\n",
    "It automates Safari to access:\n",
    "https://watchufa.com/stats/team-game-stats?team=breeze\n",
    "\n",
    "The extracted tables are:\n",
    "- Cleaned and combined into one DataFrame\n",
    "- Saved to a single CSV file: `dc_breeze_stats_last_3_season.csv`\n",
    "\"\"\"\n"
   ]
  },
  {
   "cell_type": "code",
   "execution_count": 3,
   "id": "75569700",
   "metadata": {},
   "outputs": [
    {
     "name": "stdout",
     "output_type": "stream",
     "text": [
      "📅 Veriler alınıyor: 2024\n"
     ]
    },
    {
     "name": "stderr",
     "output_type": "stream",
     "text": [
      "/var/folders/bw/3d_7lhdd7fl2dwhmcnw7pjnr0000gn/T/ipykernel_92908/1076229815.py:20: FutureWarning: Passing literal html to 'read_html' is deprecated and will be removed in a future version. To read from a literal string, wrap it in a 'StringIO' object.\n",
      "  tables = pd.read_html(html)\n"
     ]
    },
    {
     "name": "stdout",
     "output_type": "stream",
     "text": [
      "📅 Veriler alınıyor: 2023\n"
     ]
    },
    {
     "name": "stderr",
     "output_type": "stream",
     "text": [
      "/var/folders/bw/3d_7lhdd7fl2dwhmcnw7pjnr0000gn/T/ipykernel_92908/1076229815.py:20: FutureWarning: Passing literal html to 'read_html' is deprecated and will be removed in a future version. To read from a literal string, wrap it in a 'StringIO' object.\n",
      "  tables = pd.read_html(html)\n"
     ]
    },
    {
     "name": "stdout",
     "output_type": "stream",
     "text": [
      "📅 Veriler alınıyor: 2022\n"
     ]
    },
    {
     "name": "stderr",
     "output_type": "stream",
     "text": [
      "/var/folders/bw/3d_7lhdd7fl2dwhmcnw7pjnr0000gn/T/ipykernel_92908/1076229815.py:20: FutureWarning: Passing literal html to 'read_html' is deprecated and will be removed in a future version. To read from a literal string, wrap it in a 'StringIO' object.\n",
      "  tables = pd.read_html(html)\n"
     ]
    },
    {
     "name": "stdout",
     "output_type": "stream",
     "text": [
      "✅ Tüm sezon verileri başarıyla kaydedildi: dc_breeze_stats_2022_2024.csv\n"
     ]
    }
   ],
   "source": [
    "from selenium import webdriver\n",
    "import time\n",
    "import pandas as pd\n",
    "\n",
    "# Safari driver'ı başlat\n",
    "driver = webdriver.Safari()\n",
    "\n",
    "# Yıllar\n",
    "years = [2024, 2023, 2022]\n",
    "all_data = []\n",
    "\n",
    "for year in years:\n",
    "    print(f\"📅 Veriler alınıyor: {year}\")\n",
    "    url = f\"https://watchufa.com/stats/team-game-stats?team=breeze&year={year}\"\n",
    "    driver.get(url)\n",
    "    time.sleep(5)  # sayfanın yüklenmesini bekle\n",
    "\n",
    "    try:\n",
    "        html = driver.page_source\n",
    "        tables = pd.read_html(html)\n",
    "        df = tables[0]\n",
    "        df['Season'] = year  # yıl bilgisini ekle\n",
    "        all_data.append(df)\n",
    "    except Exception as e:\n",
    "        print(f\"❌ {year} yılı verisi alınamadı: {e}\")\n",
    "\n",
    "# Tüm yılların verilerini birleştir\n",
    "final_df = pd.concat(all_data, ignore_index=True)\n",
    "\n",
    "# CSV olarak kaydet\n",
    "final_df.to_csv(\"dc_breeze_stats_2022_2024.csv\", index=False)\n",
    "\n",
    "# Tarayıcıyı kapat\n",
    "driver.quit()\n",
    "\n",
    "print(\"✅ Tüm sezon verileri başarıyla kaydedildi: dc_breeze_stats_2022_2024.csv\")"
   ]
  },
  {
   "cell_type": "markdown",
   "id": "cdebfc5e",
   "metadata": {},
   "source": [
    "\"\"\"\n",
    "Wind Speed Data Collector for Ultimate Frisbee Matches\n",
    " This script reads match dates and locations from `manual_match_list.csv`\n",
    "and queries the Visual Crossing Weather API to fetch wind speed data\n",
    "for each game. It handles API rate limits and saves the result to \n",
    "`Windspeed_data_for_each_date.csv`.\n",
    "\"\"\""
   ]
  },
  {
   "cell_type": "code",
   "execution_count": 19,
   "id": "e92e9303",
   "metadata": {
    "scrolled": true
   },
   "outputs": [
    {
     "name": "stdout",
     "output_type": "stream",
     "text": [
      "✅ Columns: ['Date', 'Location', 'Unnamed: 2']\n",
      "📅 2024-08-23   | 🏟  Salt Lake City,UT\n",
      "📅 2024-08-10   | 🏟  Washington\n",
      "📅 2024-07-20   | 🏟  New York\n",
      "📅 2024-06-28   | 🏟  Washington\n",
      "📅 2024-06-22   | 🏟  Washington\n",
      "📅 2024-06-16   | 🏟  Montreal\n",
      "📅 2024-06-15   | 🏟  Toronto\n",
      "📅 2024-06-08   | 🏟  Washington\n",
      "📅 2024-06-02   | 🏟  Boston\n",
      "📅 2024-05-31   | 🏟  Washington\n",
      "📅 2024-05-18   | 🏟  Philadelphia\n",
      "📅 2024-05-10   | 🏟  Washington\n",
      "📅 2024-05-05   | 🏟  Philadelphia\n",
      "📅 2024-04-27   | 🏟  Salt Lake City\n",
      "📅 2023-08-12   | 🏟  New York\n",
      "📅 2023-07-29   | 🏟  Washington\n",
      "📅 2023-07-21   | 🏟  Washington\n",
      "📅 2023-07-15   | 🏟  Philadelphia\n",
      "📅 2023-07-08   | 🏟  Washington\n",
      "📅 2023-06-30   | 🏟  New York\n",
      "📅 2023-06-24   | 🏟  Boston\n",
      "📅 2023-06-23   | 🏟  Montreal\n",
      "📅 2023-06-16   | 🏟  Washington\n",
      "📅 2023-06-02   | 🏟  Raleigh\n",
      "📅 2023-05-20   | 🏟  Washington\n",
      "📅 2023-05-13   | 🏟  Washington\n",
      "📅 2023-05-07   | 🏟  Washington\n",
      "📅 2023-04-29   | 🏟  Raleigh\n",
      "📅 2022-08-20   | 🏟  New York\n",
      "📅 2022-08-13   | 🏟  Washington\n",
      "📅 2022-07-29   | 🏟  Washington\n",
      "📅 2022-07-23   | 🏟  Boston\n",
      "📅 2022-07-16   | 🏟  Ottawa\n",
      "📅 2022-07-15   | 🏟  Montreal\n",
      "📅 2022-07-08   | 🏟  Washington\n",
      "📅 2022-07-02   | 🏟  Philadelphia\n",
      "📅 2022-06-18   | 🏟  Washington\n",
      "📅 2022-06-10   | 🏟  New York\n",
      "📅 2022-06-03   | 🏟  Washington\n",
      "📅 2022-05-28   | 🏟  Washington\n",
      "📅 2022-05-14   | 🏟  Washington\n",
      "📅 2022-04-30   | 🏟  Washington\n",
      "\n",
      "✅ Finished. Wind data saved to manual_match_wind_data.csv\n"
     ]
    }
   ],
   "source": [
    "import pandas as pd\n",
    "import requests\n",
    "import csv\n",
    "import time\n",
    "from datetime import datetime\n",
    "from typing import Union\n",
    "\n",
    "# ─── CONFIG ─────────────────────────────────────────────\n",
    "API_KEY     = \"TUFUHU6ERDAHNALFJY7YU56Y6\"\n",
    "INPUT_CSV   = \"manual_match_list.csv\"\n",
    "OUTPUT_CSV  = \"manual_match_wind_data.csv\"\n",
    "SECONDS_BETWEEN_CALLS = 6\n",
    "WAIT_IF_429_SECONDS   = 65\n",
    "# ───────────────────────────────────────────────────────\n",
    "\n",
    "def fetch_wind(date_str: str, location: str) -> Union[float, None]:\n",
    "    url = (\n",
    "        \"https://weather.visualcrossing.com/VisualCrossingWebServices/rest/\"\n",
    "        f\"services/timeline/{location}/{date_str}\"\n",
    "        f\"?unitGroup=metric&key={API_KEY}&contentType=json\"\n",
    "    )\n",
    "    while True:\n",
    "        r = requests.get(url)\n",
    "        status = r.status_code\n",
    "        if status == 200 and r.text.strip():\n",
    "            try:\n",
    "                return r.json()[\"days\"][0][\"windspeed\"]\n",
    "            except Exception:\n",
    "                return None\n",
    "        elif status == 429:\n",
    "            print(\"   ⏳ 429 Too Many Requests → waiting a minute …\")\n",
    "            time.sleep(WAIT_IF_429_SECONDS)\n",
    "            continue\n",
    "        else:\n",
    "            print(f\"   ⚠️  {status} error for {date_str} @ {location}\")\n",
    "            return None\n",
    "\n",
    "def main():\n",
    "    # 🧾 Read tab-delimited CSV\n",
    "    df = pd.read_csv(INPUT_CSV, delimiter=\"\\t\")\n",
    "    df.columns = df.columns.str.strip()\n",
    "    print(\"✅ Columns:\", df.columns.tolist())\n",
    "\n",
    "    # 🎯 Salt Lake City düzeltmesi\n",
    "    df[\"Date\"] = pd.to_datetime(df[\"Date\"], errors=\"coerce\")\n",
    "    df[\"Location\"] = df.apply(\n",
    "        lambda row: \"Salt Lake City,UT\" if row[\"Date\"] == pd.to_datetime(\"2024-08-23\") else row[\"Location\"],\n",
    "        axis=1\n",
    "    )\n",
    "\n",
    "    wind_rows = []\n",
    "\n",
    "    for _, row in df.iterrows():\n",
    "        date_obj = row[\"Date\"]\n",
    "        location = row[\"Location\"]\n",
    "        if pd.isna(date_obj) or pd.isna(location):\n",
    "            continue\n",
    "        date_str = date_obj.strftime(\"%Y-%m-%d\")\n",
    "\n",
    "        print(f\"📅 {date_str.ljust(12)} | 🏟  {location}\")\n",
    "        wind_speed = fetch_wind(date_str, location)\n",
    "        wind_rows.append({\n",
    "            \"Date\": date_str,\n",
    "            \"Location\": location,\n",
    "            \"Wind Speed (m/s)\": wind_speed\n",
    "        })\n",
    "        time.sleep(SECONDS_BETWEEN_CALLS)\n",
    "\n",
    "    # 💾 Write CSV\n",
    "    with open(OUTPUT_CSV, \"w\", newline=\"\") as f:\n",
    "        writer = csv.DictWriter(f, fieldnames=[\"Date\", \"Location\", \"Wind Speed (m/s)\"])\n",
    "        writer.writeheader()\n",
    "        writer.writerows(wind_rows)\n",
    "\n",
    "    print(f\"\\n✅ Finished. Wind data saved to {OUTPUT_CSV}\")\n",
    "\n",
    "if __name__ == \"__main__\":\n",
    "    main()"
   ]
  },
  {
   "cell_type": "markdown",
   "id": "c26269b7",
   "metadata": {},
   "source": [
    "# Wind vs. Turnover Rate Analysis - Ultimate Frisbee (DC Breeze)\n"
   ]
  },
  {
   "cell_type": "code",
   "execution_count": 22,
   "id": "a308647f",
   "metadata": {},
   "outputs": [],
   "source": [
    "# 1. Import libraries\n",
    "import pandas as pd\n",
    "import matplotlib.pyplot as plt\n",
    "import seaborn as sns\n",
    "from scipy.stats import ttest_ind, pearsonr"
   ]
  },
  {
   "cell_type": "code",
   "execution_count": 25,
   "id": "3e359cda",
   "metadata": {},
   "outputs": [],
   "source": [
    "#  2. Load datasets\n",
    "df_stats = pd.read_csv(\"dc_breeze_stats_last_3_season.csv\")\n",
    "df_wind = pd.read_csv(\"Windspeed_data_for_each_date.csv\")"
   ]
  },
  {
   "cell_type": "code",
   "execution_count": 26,
   "id": "81cafda7",
   "metadata": {},
   "outputs": [],
   "source": [
    "# 3. Clean and merge -> some of the column started with space etc. to prevent this, cleaning before merge.\n",
    "df_stats.columns = df_stats.columns.str.strip()\n",
    "df_stats[\"Date\"] = pd.to_datetime(df_stats[\"Date\"])\n",
    "df_wind[\"Date\"] = pd.to_datetime(df_wind[\"Date\"])\n",
    "df = pd.merge(df_stats, df_wind, on=\"Date\", how=\"inner\")"
   ]
  },
  {
   "cell_type": "code",
   "execution_count": 33,
   "id": "74a9292e",
   "metadata": {},
   "outputs": [
    {
     "data": {
      "image/png": "[encoded data removed]",
      "text/plain": [
       "<Figure size 432x288 with 1 Axes>"
      ]
     },
     "metadata": {
      "needs_background": "light"
     },
     "output_type": "display_data"
    }
   ],
   "source": [
    "## Histogram of Wind Speed\n",
    "\n",
    "\n",
    "plt.figure(figsize=(6, 4))\n",
    "plt.hist(df[\"Wind Speed (m/s)\"].dropna(), bins=10, color='skyblue', edgecolor='black')\n",
    "plt.title(\"Wind Speed Distribution\")\n",
    "plt.xlabel(\"Wind Speed (m/s)\")\n",
    "plt.ylabel(\"Frequency\")\n",
    "plt.grid(True)\n",
    "plt.show()"
   ]
  },
  {
   "cell_type": "code",
   "execution_count": 34,
   "id": "9de0d681",
   "metadata": {},
   "outputs": [
    {
     "data": {
      "image/png": "[encoded data removed]",
      "text/plain": [
       "<Figure size 432x288 with 1 Axes>"
      ]
     },
     "metadata": {
      "needs_background": "light"
     },
     "output_type": "display_data"
    }
   ],
   "source": [
    "## Scatter Plot: Wind vs Turnovers\n",
    "plt.figure(figsize=(6,4))\n",
    "sns.scatterplot(x=\"Wind Speed (m/s)\", y=\"Turnovers\", data=df)\n",
    "plt.title(\"Wind Speed vs Turnovers\")\n",
    "plt.xlabel(\"Wind Speed (m/s)\")\n",
    "plt.ylabel(\"Turnovers\")\n",
    "plt.grid(True)\n",
    "plt.show()"
   ]
  },
  {
   "cell_type": "code",
   "execution_count": 40,
   "id": "e19cf98c",
   "metadata": {},
   "outputs": [
    {
     "name": "stderr",
     "output_type": "stream",
     "text": [
      "/Users/tolgaerguner/opt/anaconda3/lib/python3.9/site-packages/seaborn/categorical.py:253: FutureWarning: The default of observed=False is deprecated and will be changed to True in a future version of pandas. Pass observed=False to retain current behavior or observed=True to adopt the future default and silence this warning.\n",
      "  grouped_vals = vals.groupby(grouper)\n"
     ]
    },
    {
     "data": {
      "image/png": "[encoded data removed]",
      "text/plain": [
       "<Figure size 504x360 with 1 Axes>"
      ]
     },
     "metadata": {
      "needs_background": "light"
     },
     "output_type": "display_data"
    }
   ],
   "source": [
    "## Boxplot: Group wind into categories\n",
    "bins = [0, 15, 25, 35, 45]\n",
    "labels = [\"Calm\", \"Moderate\", \"Windy\", \"Very Windy\"]\n",
    "df[\"Wind Category\"] = pd.cut(df[\"Wind Speed (m/s)\"], bins=bins, labels=labels)\n",
    "plt.figure(figsize=(7,5))\n",
    "sns.boxplot(x=\"Wind Category\", y=\"Turnovers\", data=df)\n",
    "plt.title(\"Turnovers by Wind Category\")\n",
    "plt.xlabel(\"Wind Condition\")\n",
    "plt.ylabel(\"Turnovers\")\n",
    "plt.grid(True)\n",
    "plt.show()"
   ]
  },
  {
   "cell_type": "markdown",
   "id": "012f189b",
   "metadata": {},
   "source": [
    "# Hypothesis Testing"
   ]
  },
  {
   "cell_type": "code",
   "execution_count": 41,
   "id": "12e05ef6",
   "metadata": {},
   "outputs": [
    {
     "name": "stdout",
     "output_type": "stream",
     "text": [
      "Pearson correlation: 0.33, p-value: 0.0314\n"
     ]
    }
   ],
   "source": [
    "corr, p_corr = pearsonr(df[\"Wind Speed (m/s)\"], df[\"Turnovers\"])\n",
    "print(f\"Pearson correlation: {corr:.2f}, p-value: {p_corr:.4f}\")"
   ]
  },
  {
   "cell_type": "markdown",
   "id": "8334cdce",
   "metadata": {},
   "source": [
    "The Pearson correlation between wind speed and turnover count is 0.33, with a p-value of 0.0314. This indicates a moderate positive correlation that is statistically significant at the 5% level."
   ]
  },
  {
   "cell_type": "code",
   "execution_count": 43,
   "id": "da6cf796",
   "metadata": {},
   "outputs": [
    {
     "name": "stdout",
     "output_type": "stream",
     "text": [
      "T-test result: t=-1.33, p=0.2047\n"
     ]
    }
   ],
   "source": [
    "## T-test: Calm vs Windy+Very Windy\n",
    "group_calm = df[df[\"Wind Category\"] == \"Calm\"][\"Turnovers\"]\n",
    "group_windy = df[df[\"Wind Category\"].isin([\"Windy\", \"Very Windy\"])]\n",
    "\n",
    "t_stat, p_value = ttest_ind(group_calm, group_windy[\"Turnovers\"], equal_var=False, nan_policy='omit')\n",
    "print(f\"T-test result: t={t_stat:.2f}, p={p_value:.4f}\")"
   ]
  },
  {
   "cell_type": "markdown",
   "id": "0eb96051",
   "metadata": {},
   "source": [
    "To test whether windier conditions lead to significantly more turnovers, a two-sample t-test was performed comparing games played in **calm** vs. **windy/very windy** conditions.\n",
    "\n",
    "- **t-statistic:** -1.33\n",
    "- **p-value:** 0.2047\n",
    "\n",
    "The result indicates that the difference in average turnovers is **not statistically significant** at the 5% level. Therefore, while the correlation analysis suggested a moderate positive relationship, this specific test does not provide strong evidence that high wind directly causes more turnovers across groups.\n",
    "\n",
    "It’s possible that sample size, variance, or grouping thresholds affected this result."
   ]
  }
 ],
 "metadata": {
  "kernelspec": {
   "display_name": "Python 3 (ipykernel)",
   "language": "python",
   "name": "python3"
  },
  "language_info": {
   "codemirror_mode": {
    "name": "ipython",
    "version": 3
   },
   "file_extension": ".py",
   "mimetype": "text/x-python",
   "name": "python",
   "nbconvert_exporter": "python",
   "pygments_lexer": "ipython3",
   "version": "3.9.12"
  }
 },
 "nbformat": 4,
 "nbformat_minor": 5
}
